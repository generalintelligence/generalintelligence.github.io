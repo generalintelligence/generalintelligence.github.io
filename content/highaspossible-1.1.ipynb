{
 "cells": [
  {
   "cell_type": "markdown",
   "metadata": {},
   "source": [
    "This function models tolerance - at a time x after most recent cannabis dose, the effectiveness of a cannabis dose will be multiplied by the resulting factor y. The \"tFactor\" variable is used later - change \"lastDoseTime\" to see effects in later graphs."
   ]
  },
  {
   "cell_type": "code",
   "execution_count": 12,
   "metadata": {
    "collapsed": true
   },
   "outputs": [],
   "source": [
    "# %pylab inline\n",
    "\n",
    "#from bqplot import pylab\n",
    "#import numpy as np\n",
    "\n",
    "%matplotlib inline\n",
    "from __future__ import print_function\n",
    "from IPython.display import display\n",
    "import matplotlib.pyplot as plt\n",
    "\n",
    "from ipywidgets import *\n",
    "from traitlets import *\n",
    "\n",
    "import numpy as np\n",
    "import pandas as pd\n",
    "import datetime as dt\n",
    "\n",
    "toleranceCoeff = 1 #factor representing how long it takes to return to baseline tolerance\n",
    "minimumEffect = 0.5 #minimum effectiveness of a dose, ie effectiveness of a dose at maximum tolerance\n",
    "\n",
    "x = np.linspace(0, 10, 1000)  # 1000 evenly-spaced values from 0 to 4\n",
    "y = 1 - minimumEffect*np.exp((-1)*x*toleranceCoeff)\n",
    "\n",
    "\n",
    "\n",
    "##### Change This #######\n",
    "lastDoseTime = 1 \n",
    "#########################\n",
    "\n",
    "\n",
    "\n"
   ]
  },
  {
   "cell_type": "code",
   "execution_count": 13,
   "metadata": {
    "collapsed": true
   },
   "outputs": [],
   "source": [
    "def toleranceLevel(timeSinceLastDose, toleranceCoeff, minimumEffect):\n",
    "   return 1-minimumEffect*np.exp((-1)*timeSinceLastDose*toleranceCoeff)\n",
    "\n",
    "#print(lastDoseTimeSlider.value)\n",
    "tFactor = toleranceLevel(lastDoseTime, toleranceCoeff, minimumEffect)\n"
   ]
  },
  {
   "cell_type": "code",
   "execution_count": 14,
   "metadata": {
    "collapsed": false
   },
   "outputs": [
    {
     "data": {
      "application/vnd.jupyter.widget-view+json": {
       "model_id": "eca917130b1f480b97b2d5115e0a6a85"
      }
     },
     "metadata": {},
     "output_type": "display_data"
    },
    {
     "data": {
      "text/plain": [
       "<function __main__.toleranceGraph>"
      ]
     },
     "execution_count": 14,
     "metadata": {},
     "output_type": "execute_result"
    }
   ],
   "source": [
    "\n",
    "def toleranceGraph(toleranceCoeff):\n",
    "    xdata = np.linspace(0,5)\n",
    "    minimumEffect = 0.5\n",
    "    ydata = toleranceLevel(xdata, toleranceCoeff, minimumEffect)\n",
    "    plt.plot(xdata, ydata)\n",
    "    plt.show()\n",
    "    \n",
    "interact(toleranceGraph,toleranceCoeff=FloatSlider(min=0.5,max=1.5, value=1, step=0.01))"
   ]
  },
  {
   "cell_type": "markdown",
   "metadata": {},
   "source": [
    "Vasofactors - these are factors affecting vasodilation levels, which increase the rate at which THC enters the bloodstream and the brain. The resulting Vasodilation Factor (\"Vasofactor\") can be applied to the above blood THC level curves to modify the time course and \"peak high.\" The degree to which various factors contribute to the V-Factor is unscientific and based on anecdotal experiences. Ideally, the vasofactor would change the shape of the curve but keep the integral the same, because the amount of THC remains the same, but I haven't made it that way yet. \n",
    "\n",
    "Change the values for factor times and levels to see the effects on THC curves and levels in the graphs below."
   ]
  },
  {
   "cell_type": "code",
   "execution_count": 15,
   "metadata": {
    "collapsed": false
   },
   "outputs": [
    {
     "name": "stdout",
     "output_type": "stream",
     "text": [
      "1.31578947368\n"
     ]
    }
   ],
   "source": [
    "#Vasofactor levels can be varied by user input to different degrees and weighted based on suspected importance of the factor.\n",
    "#E.g., aerobic activity probably has a much greater effect than theobromine consumption, so it could be given a higher weight.\n",
    "#Zero is the baseline for the levels - i.e., no consumption of caffeine/other substances, \n",
    "#no aerobic activity, normal noise/light/temp levels.\n",
    "\n",
    "caffeineTime = 1 #when did you last consume caffeine?\n",
    "caffeineLevel = 0 #how large was caffeine dose\n",
    "caffeineWeight = -1\n",
    "caffeine = caffeineWeight*caffeineLevel/caffeineTime\n",
    "\n",
    "\n",
    "capsaicinTime = 1\n",
    "capsaicinLevel = 0\n",
    "capsaicinWeight = 1\n",
    "capsaicin = capsaicinWeight*capsaicinLevel/capsaicinTime\n",
    "\n",
    "\n",
    "theobromineTime = 1\n",
    "theobromineLevel = 0\n",
    "theobromineWeight = 0.2\n",
    "theobromine = theobromineWeight*theobromineLevel/theobromineTime\n",
    "\n",
    "\n",
    "aerobicTime = 1\n",
    "aerobicLevel = 0.4\n",
    "aerobicWeight = 3\n",
    "aerobic =  aerobicWeight*aerobicLevel/aerobicTime\n",
    "\n",
    "\n",
    "currentNoiseLevel = 0\n",
    "currentNoiseWeight = -0.2\n",
    "currentNoise = currentNoiseWeight*currentNoiseLevel\n",
    "\n",
    "currentLightLevel = 0\n",
    "currentLightWeight = -0.2\n",
    "currentLight = currentLightWeight*currentLightLevel\n",
    "\n",
    "currentTempLevel = 0\n",
    "currentTempWeight = 1\n",
    "currentTemp = currentTempWeight*currentTempLevel\n",
    "\n",
    "totalWeights = caffeineWeight + capsaicinWeight + theobromineWeight + aerobicWeight + currentNoiseWeight + currentLightWeight + currentTempWeight\n",
    "\n",
    "totalFactors = caffeine + capsaicin + theobromine + aerobic + currentNoise + currentLight + currentTemp\n",
    "\n",
    "baseline = 1\n",
    "\n",
    "vasofactor = baseline + totalFactors/totalWeights\n",
    "\n",
    "print(vasofactor)\n"
   ]
  },
  {
   "cell_type": "markdown",
   "metadata": {},
   "source": [
    "The other category of factors is those affecting the subjective perception of the \"high\" - these differ from vasofactors in that they do not affect the time course of blood THC levels, instead acting as simple multipliers."
   ]
  },
  {
   "cell_type": "code",
   "execution_count": 16,
   "metadata": {
    "collapsed": false
   },
   "outputs": [
    {
     "name": "stdout",
     "output_type": "stream",
     "text": [
      "1.3\n"
     ]
    }
   ],
   "source": [
    "#Subjective factors - ranges from 0.5 to 1.5.\n",
    "\n",
    "environmentFamiliarity = 1 #How often have you smoked here in the past?\n",
    "strainFamiliarity = 1.3 #How often have you smoked this strain?\n",
    "methodFamiliarity = 1 #How often to you consume cannabis by current method?\n",
    "socialFamiliarity = 1 #How often do you consumer cannabis in current company?\n",
    "\n",
    "subjectiveFactor = environmentFamiliarity*strainFamiliarity*methodFamiliarity*socialFamiliarity\n",
    "\n",
    "print(subjectiveFactor)"
   ]
  },
  {
   "cell_type": "markdown",
   "metadata": {},
   "source": [
    "These curves represent the time course of blood THC levels after administration by smoking/ingestion. The maximum of these curves would be the approximate \"maximum high\" experienced from the dose. "
   ]
  },
  {
   "cell_type": "markdown",
   "metadata": {},
   "source": [
    "This function is a pharmacokinetic curve representing THC levels in the bloodstream after smoking. This is based on the Hill equation - see attached pdf \"Hill Equation.\" The Hill Equation is typically used for intravenous injections, but smoking is fairly close. "
   ]
  },
  {
   "cell_type": "code",
   "execution_count": 18,
   "metadata": {
    "collapsed": false
   },
   "outputs": [
    {
     "data": {
      "image/png": "[encoded data removed]",
      "text/plain": [
       "<matplotlib.figure.Figure at 0x925b6a0>"
      ]
     },
     "metadata": {},
     "output_type": "display_data"
    }
   ],
   "source": [
    "\n",
    "alpha = 1.05\n",
    "c = 6\n",
    "relaxTime = 1.8 #This factor affects the time it takes to return to baseline.\n",
    "\n",
    "\n",
    "x = np.linspace(0, 50, 1000)  # 1000 evenly-spaced values from 0 to 4\n",
    "ySmoking = (alpha*(c**alpha)*(x**(alpha-1)))/(c**alpha + x**alpha)**relaxTime\n",
    "yVaso = (alpha*(c**alpha)*((x*vasofactor)**(alpha-1)))/(c**alpha + (x*vasofactor)**alpha)**relaxTime\n",
    "yVasoSubj = subjectiveFactor*((alpha*(c**alpha)*((x*vasofactor)**(alpha-1)))/(c**alpha + (x*vasofactor)**alpha)**relaxTime)\n",
    "yVasoSubjT = tFactor*subjectiveFactor*((alpha*(c**alpha)*((x*vasofactor)**(alpha-1)))/(c**alpha + (x*vasofactor)**alpha)**relaxTime)\n",
    "\n",
    "plt.plot(x, ySmoking, 'r')\n",
    "plt.plot(x, yVaso, 'b')\n",
    "plt.plot(x, yVasoSubj, 'g')\n",
    "plt.plot(x, yVasoSubjT, 'y')\n",
    "plt.show()"
   ]
  },
  {
   "cell_type": "markdown",
   "metadata": {},
   "source": [
    "The time course of the effectiveness of edibles can be modeled by a flat-topped Gaussian curve. This seems like a fairly accurate representation of edible effects to me, although maybe the tail should be longer."
   ]
  },
  {
   "cell_type": "code",
   "execution_count": 23,
   "metadata": {
    "collapsed": false
   },
   "outputs": [
    {
     "data": {
      "image/png": "[encoded data removed]",
      "text/plain": [
       "<matplotlib.figure.Figure at 0x9657390>"
      ]
     },
     "metadata": {},
     "output_type": "display_data"
    }
   ],
   "source": [
    "\n",
    "b = 150 #shifts curve on x axis\n",
    "cGauss = 60 #widens/narrows curve\n",
    "n = 4 #n>2 makes the distribution \"flat-topped\", greater n makes the function more \"table-like\"\n",
    "\n",
    "x = np.linspace(0,500,1000)\n",
    "yPureTHCGaussian = np.exp((-(x-b)**n)/(cGauss**n))\n",
    "yVaso = np.exp((-(x-b + 20*vasofactor)**n)/((cGauss)**n))\n",
    "yVasoSubj = subjectiveFactor*np.exp((-(x-b + 20*vasofactor)**n)/((cGauss)**n))\n",
    "yVasoSubjT = tFactor*subjectiveFactor*np.exp((-(x-b + 20*vasofactor)**n)/((cGauss)**n))\n",
    "\n",
    "plt.plot(x, yPureTHCGaussian, 'r') #THC time course base curve\n",
    "plt.plot(x, yVaso, 'b') #THC base curve with vasofactor\n",
    "plt.plot(x, yVasoSubj, 'g') #with vasofactor and subjective factor\n",
    "plt.plot(x, yVasoSubjT, 'y') #with vasofactor, subjective factor, and tolerance factor\n",
    "plt.show()"
   ]
  },
  {
   "cell_type": "markdown",
   "metadata": {},
   "source": [
    "The curve for a log-normal distribution looks a little more accurate, at least in my experience."
   ]
  },
  {
   "cell_type": "code",
   "execution_count": 39,
   "metadata": {
    "collapsed": false
   },
   "outputs": [
    {
     "data": {
      "application/vnd.jupyter.widget-view+json": {
       "model_id": "4b29a34772dd470a8d511f7a74244f06"
      }
     },
     "metadata": {},
     "output_type": "display_data"
    },
    {
     "data": {
      "text/plain": [
       "<function __main__.logNormalPlot>"
      ]
     },
     "execution_count": 39,
     "metadata": {},
     "output_type": "execute_result"
    }
   ],
   "source": [
    "def logNormalPlot(vasofactor, subjectiveFactor, tFactor):\n",
    "    b = 150 #shifts curve on x axis\n",
    "    cGauss = 1 #widens/narrows curve\n",
    "    n = 4 #n>2 makes the distribution \"flat-topped\", greater n makes the function more \"table-like\"\n",
    "\n",
    "    mu = 3\n",
    "    stretchFactor = 5\n",
    "    scaleFactor = 1\n",
    "\n",
    "    x = np.linspace(1,500,1000)\n",
    "    yPureTHCLongTail = np.exp(-((np.log(x/stretchFactor)-mu)**n)/cGauss**2)/(cGauss*scaleFactor)\n",
    "    yVaso = np.exp(-((np.log(vasofactor*x/stretchFactor)-mu)**n)/cGauss**2)/(cGauss*scaleFactor)\n",
    "    yVasoSubj = subjectiveFactor*np.exp(-((np.log(vasofactor*x/stretchFactor)-mu)**n)/cGauss**2)/(cGauss*scaleFactor)\n",
    "    yVasoSubjT = tFactor*subjectiveFactor*np.exp(-((np.log(vasofactor*x/stretchFactor)-mu)**n)/cGauss**2)/(cGauss*scaleFactor)\n",
    "\n",
    "\n",
    "    plt.plot(x, yPureTHCLongTail, 'r')\n",
    "    plt.plot(x, yVaso, 'b')\n",
    "    plt.plot(x, yVasoSubj, 'g')\n",
    "    plt.plot(x, yVasoSubjT, 'y')\n",
    "    plt.show()\n",
    "    \n",
    "interact(logNormalPlot,\n",
    "         vasofactor=FloatSlider(min=0.5,max=1.5, value=1, step=0.01),\n",
    "         subjectiveFactor=FloatSlider(min=0.5,max=1.5, value=1, step=0.01),\n",
    "         tFactor=FloatSlider(min=0.5,max=1.0, value=1, step=0.01))"
   ]
  },
  {
   "cell_type": "markdown",
   "metadata": {
    "collapsed": true
   },
   "source": [
    "We could also try to find a blood THC curve for an acetate product that looks appealing, looks unique, and is plausibly representative of what might happen with a THC acetate product. Since the acetate product with our current reaction procedure would be some combination of THC acetate and unchanged THC (let's say 50/50 for simplicity), a reasonable representation would be a combination of two of the above long-tailed curves, one for THC as above and an altered one for THC acetate representing the more rapid effects."
   ]
  },
  {
   "cell_type": "code",
   "execution_count": 27,
   "metadata": {
    "collapsed": false
   },
   "outputs": [
    {
     "data": {
      "image/png": "[encoded data removed]",
      "text/plain": [
       "<matplotlib.figure.Figure at 0x9a4bd68>"
      ]
     },
     "metadata": {},
     "output_type": "display_data"
    }
   ],
   "source": [
    "b = 150 #shifts curve on x axis\n",
    "cGauss = 1 #widens/narrows curve\n",
    "n = 4 #n>2 makes the distribution \"flat-topped\", greater n makes the function more \"table-like\"\n",
    "\n",
    "mu = 3\n",
    "stretchFactor = 5\n",
    "acetateStretchFactor = 2\n",
    "scaleFactor = 1\n",
    "\n",
    "x = np.linspace(1,500,1000)\n",
    "yTHC = np.exp(-((np.log(x/stretchFactor)-mu)**n)/cGauss**2)/(cGauss*scaleFactor)\n",
    "yTHCAcetate = np.exp(-((np.log(x/(stretchFactor/acetateStretchFactor))-mu)**n)/cGauss**2)/(cGauss*scaleFactor)\n",
    "yAcetateProduct = (yTHC + yTHCAcetate)/2\n",
    "                  \n",
    "yAcetateProduct = np.add(yTHC, yTHCAcetate)/2   \n",
    "    \n",
    "#yVaso = exp(-((np.log(vasofactor*x/stretchFactor)-mu)**n)/cGauss**2)/(cGauss*scaleFactor)\n",
    "#yVasoSubj = subjectiveFactor*exp(-((np.log(x/stretchFactor)-mu)**n)/cGauss**2)/(cGauss*scaleFactor)\n",
    "#yVasoSubjT = tFactor*subjectiveFactor*exp(-((np.log(x/stretchFactor)-mu)**n)/cGauss**2)/(cGauss*scaleFactor)\n",
    "\n",
    "\n",
    "plt.plot(x, yAcetateProduct, 'r')\n",
    "#pylab.plot(x, yVaso, 'b')\n",
    "#pylab.plot(x, yVasoSubj, 'g')\n",
    "#pylab.plot(x, yVasoSubjT, 'y')\n",
    "plt.show()"
   ]
  },
  {
   "cell_type": "markdown",
   "metadata": {},
   "source": [
    "Shown below is a comparison of the curves for smoking (red), ingesting THC (blue), and ingesting our 50/50 THC/THC-Acetate product (green). The acetate product curve is sort of intermediate between smoking and ingesting THC, which is what we wanted to show. These curves are normalized to have the same integral, and the smoking curve is multiplied by a factor representing the proportion of THC lost to combustion during smoking.\n",
    "\n",
    "As it turns out, according to https://www.boomer.org/c/p3/c17/c1703.html the pharmacokinetics for ingestion are of the same form as for injection, so I used the same Hill equation to model the THC/Acetate kinetics below as is used for smoking, just with different values. I also added an x offset variable for each method to \n",
    "\n",
    "The acetatePercent slider varies the percentage of THC-acetate vs THC in the formulation from 0% to 100%."
   ]
  },
  {
   "cell_type": "code",
   "execution_count": 58,
   "metadata": {
    "collapsed": false
   },
   "outputs": [
    {
     "data": {
      "application/vnd.jupyter.widget-view+json": {
       "model_id": "922a1103c9f446ae878d4ed787b1701a"
      }
     },
     "metadata": {},
     "output_type": "display_data"
    },
    {
     "data": {
      "text/plain": [
       "<function __main__.differentMethodsPlot>"
      ]
     },
     "execution_count": 58,
     "metadata": {},
     "output_type": "execute_result"
    }
   ],
   "source": [
    "def normalize(ySet, x):\n",
    "    return ySet/np.trapz(ySet, x) #numpy.trapz gives the integral\n",
    "\n",
    "def differentMethodsPlot(acetatePercent):\n",
    "    b = 150 #shifts curve on x axis\n",
    "    cGauss = 1 #widens/narrows curve\n",
    "    n = 4 #n>2 makes the distribution \"flat-topped\", greater n makes the function more \"table-like\"\n",
    "\n",
    "    acetateStretchFactor = 2\n",
    "    \n",
    "    mu = 3\n",
    "    stretchFactor = 5\n",
    "    scaleFactor = 1\n",
    "\n",
    "    alphaSmoke = 1.8\n",
    "    cSmoke = 6\n",
    "    relaxTimeSmoke = 1\n",
    "    xOffsetSmoke = 0\n",
    "    \n",
    "    alphaTHC = 2\n",
    "    cTHC = 250\n",
    "    relaxTimeTHC = 2\n",
    "    xOffsetTHC = 30\n",
    "    \n",
    "    alphaPureAcetate = 2\n",
    "    cPureAcetate = 100\n",
    "    relaxTimePureAcetate = 2\n",
    "    xOffsetPureAcetate = 15\n",
    "    \n",
    "    def hillEquation(alpha, c, relaxTime, xOffset):\n",
    "        return (alpha*(c**alpha)*((x-xOffset)**(alpha-1)))/(c**alpha + (x-xOffset)**alpha)**relaxTime\n",
    "    \n",
    "    x = np.linspace(1,1000,4000)\n",
    "    \n",
    "    \n",
    "    yTHC = hillEquation(alphaTHC, cTHC, relaxTimeTHC, xOffsetTHC)\n",
    "    yPureAcetate = hillEquation(alphaPureAcetate, cPureAcetate, relaxTimePureAcetate, xOffsetPureAcetate)\n",
    "    ySmoking = hillEquation(alphaSmoke, cSmoke, relaxTimeSmoke, xOffsetSmoke)\n",
    "    \n",
    "    yAcetateProduct = np.add((1.0 - acetatePercent)*normalize(yTHC, x), acetatePercent*normalize(yPureAcetate, x))\n",
    "    \n",
    "    #yAcetateProduct = np.add(yTHC, yPureAcetate)/2\n",
    "    \n",
    "\n",
    "    #print(acetatePercent)\n",
    "    \n",
    "    #yVasoSubjTPureTHC = tFactor*subjectiveFactor*exp(-((np.log(vasofactor*x/stretchFactor)-mu)**n)/cGauss**2)/(cGauss*scaleFactor)\n",
    "    #yVasoSubjTSmoking = tFactor*subjectiveFactor*((alpha*(c**alpha)*((x*vasofactor)**(alpha-1)))/(c**alpha + (x*vasofactor)**alpha)**relaxTime)\n",
    "    #yVasoSubjTPureAcetate = tFactor*subjectiveFactor*exp(-((np.log(vasofactor*x/(stretchFactor/acetateStretchFactor))-mu)**n)/cGauss**2)/(cGauss*scaleFactor)\n",
    "    #yVasoSubjTAcetateProduct = ((1.0 - acetatePercent)*yVasoSubjTPureTHC + acetatePercent*yVasoSubjTPureAcetate)\n",
    "    \n",
    "    \n",
    "    smokeLossFactor = 0.5 #represents proportion of THC dose lost to combustion when smoking.\n",
    "\n",
    "    plt.axis([-10, 600, 0, 0.01])\n",
    "    \n",
    "    #print(yTHC[100], yPureAcetate[100], yAcetateProduct[100])\n",
    "    \n",
    "    plt.plot(x, normalize(ySmoking, x)*smokeLossFactor, 'r')\n",
    "    plt.plot(x, normalize(yTHC, x), 'b')\n",
    "    plt.plot(x, normalize(yAcetateProduct, x), 'g')\n",
    "    plt.plot(x, normalize(yPureAcetate, x), 'black')\n",
    "    plt.show()\n",
    "    \n",
    "interact(differentMethodsPlot,\n",
    "         acetatePercent = FloatSlider(min=0.01, max=1.0, value = 0.5, step = 0.01))\n",
    "\n"
   ]
  },
  {
   "cell_type": "markdown",
   "metadata": {},
   "source": [
    "The above curves show exactly what we want - that our product would have a higher and earlier \"peak high\" than a typical edible, while also having a much longer duration of high than smoking. "
   ]
  },
  {
   "cell_type": "markdown",
   "metadata": {},
   "source": [
    "Another possibly valuable administration method would be sublingual - a thin strip or tablet placed under the tongue. This administration method has a more rapid onset than oral ingestion as absorbed compounds pass directly into the bloodstream rather than first being passed through the liver. "
   ]
  },
  {
   "cell_type": "code",
   "execution_count": null,
   "metadata": {
    "collapsed": true
   },
   "outputs": [],
   "source": []
  }
 ],
 "metadata": {
  "anaconda-cloud": {},
  "kernelspec": {
   "display_name": "Python [default]",
   "language": "python",
   "name": "python2"
  },
  "language_info": {
   "codemirror_mode": {
    "name": "ipython",
    "version": 2
   },
   "file_extension": ".py",
   "mimetype": "text/x-python",
   "name": "python",
   "nbconvert_exporter": "python",
   "pygments_lexer": "ipython2",
   "version": "2.7.12"
  }
 },
 "nbformat": 4,
 "nbformat_minor": 2
}
